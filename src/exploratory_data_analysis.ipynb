{
  "cells": [
    {
      "cell_type": "markdown",
      "metadata": {
        "colab_type": "text",
        "id": "view-in-github"
      },
      "source": [
        "<a href=\"https://colab.research.google.com/github/AIPI510/aipi510-fall24/blob/lecture-code/week_5_lecture_eda.ipynb\" target=\"_parent\"><img src=\"https://colab.research.google.com/assets/colab-badge.svg\" alt=\"Open In Colab\"/></a>"
      ]
    },
    {
      "cell_type": "markdown",
      "metadata": {
        "id": "Og3QkmfZnq-O"
      },
      "source": [
        "# Exploratory Data Analysis Example"
      ]
    },
    {
      "cell_type": "code",
      "execution_count": 1,
      "metadata": {
        "id": "qCDQ7DxSn2Rk"
      },
      "outputs": [],
      "source": [
        "import numpy as np\n",
        "import pandas as pd\n",
        "import seaborn as sns\n",
        "import matplotlib.pyplot as plt\n",
        "from sklearn.datasets import load_iris\n",
        "\n",
        "df = pd.read_csv(\"../Global_Music_Streaming_Listener_Preferences.csv\")\n"
      ]
    },
    {
      "cell_type": "markdown",
      "metadata": {},
      "source": [
        "What we want to analyze:\n",
        "- diya - (also eda)\n",
        "    - top artists\n",
        "    - top streaming platforms\n",
        "    - top artists based on platform\n",
        "- tiffany - \n",
        "    - top arists based on country(users)\n",
        "    - top country(users) based on top artist\n",
        "    - what country are the artists that are most listened to come from\n"
      ]
    },
    {
      "cell_type": "markdown",
      "metadata": {
        "id": "v0VdVxvJn2yu"
      },
      "source": [
        "## Questions we are asking:\n",
        "* What are the dimensions of the dataset (number of rows and columns)?\n",
        "* What are the data types of the variables (numerical, categorical, text, etc.)?\n",
        "* Are there any missing values, and if so, how are they represented?\n"
      ]
    },
    {
      "cell_type": "code",
      "execution_count": 2,
      "metadata": {
        "colab": {
          "base_uri": "https://localhost:8080/"
        },
        "id": "JaGzEo-zixSL",
        "outputId": "acfb504d-f9cb-4eef-b070-725146b7862f"
      },
      "outputs": [
        {
          "name": "stdout",
          "output_type": "stream",
          "text": [
            "Data Structure\n",
            "---------------\n",
            "Dimensions: (5000, 12)\n",
            "Data Types:\n",
            "User_ID                                      object\n",
            "Age                                           int64\n",
            "Country                                      object\n",
            "Streaming Platform                           object\n",
            "Top Genre                                    object\n",
            "Minutes Streamed Per Day                      int64\n",
            "Number of Songs Liked                         int64\n",
            "Most Played Artist                           object\n",
            "Subscription Type                            object\n",
            "Listening Time (Morning/Afternoon/Night)     object\n",
            "Discover Weekly Engagement (%)              float64\n",
            "Repeat Song Rate (%)                        float64\n",
            "dtype: object\n",
            "Missing Values:\n",
            "User_ID                                     0\n",
            "Age                                         0\n",
            "Country                                     0\n",
            "Streaming Platform                          0\n",
            "Top Genre                                   0\n",
            "Minutes Streamed Per Day                    0\n",
            "Number of Songs Liked                       0\n",
            "Most Played Artist                          0\n",
            "Subscription Type                           0\n",
            "Listening Time (Morning/Afternoon/Night)    0\n",
            "Discover Weekly Engagement (%)              0\n",
            "Repeat Song Rate (%)                        0\n",
            "dtype: int64\n"
          ]
        }
      ],
      "source": [
        "# Data Structure\n",
        "print(\"Data Structure\")\n",
        "print(\"---------------\")\n",
        "print(f\"Dimensions: {df.shape}\")\n",
        "print(f\"Data Types:\\n{df.dtypes}\")\n",
        "print(f\"Missing Values:\\n{df.isnull().sum()}\")\n"
      ]
    },
    {
      "cell_type": "markdown",
      "metadata": {
        "id": "HhuHFpDCk2XR"
      },
      "source": [
        "### Interpretation\n",
        "\n",
        "This data has 5000 observations of music listeners's activity and trends. Each observation has 12 features describing the listener's demographic/background and listening activity.\n",
        "\n",
        "The numerical features are:\n",
        "- Age\n",
        "- Minutes Streamed Per Days\n",
        "- Number of Songs Liked\n",
        "- Discover Weekly Engagement (%)\n",
        "- Repeat Song Rate (%)\n",
        "\n",
        "The categorical features are:\n",
        "- User ID\n",
        "- Country\n",
        "- Streaming Platform\n",
        "- Top Genre\n",
        "- Most Played Artist\n",
        "- Subscription Type\n",
        "- Listening Time (Morning, Afternoon, or Night)\n",
        "\n",
        "There are no missing values in this dataset, so there is no need to remove rows or columns. "
      ]
    },
    {
      "cell_type": "markdown",
      "metadata": {
        "id": "RC-OdMnYoAyF"
      },
      "source": [
        "## Questions we are asking:\n",
        "* What are the central tendency measures (mean, median, mode) for numerical variables?\n",
        "* What are the measures of dispersion (range, variance, standard deviation) for numerical variables?\n",
        "* What is the distribution of the variables (normal, skewed, etc.)?\n"
      ]
    },
    {
      "cell_type": "code",
      "execution_count": 3,
      "metadata": {
        "colab": {
          "base_uri": "https://localhost:8080/"
        },
        "id": "KVb3mVYylNkc",
        "outputId": "25906d18-2b03-496b-f39d-cd030c96c374"
      },
      "outputs": [
        {
          "name": "stdout",
          "output_type": "stream",
          "text": [
            "\n",
            "Descriptive Statistics\n",
            "----------------------\n",
            "Central Tendency Measures:\n",
            "         Age  Minutes Streamed Per Day  Number of Songs Liked  \\\n",
            "mean  36.664                  309.2372               253.5172   \n",
            "50%   37.000                  316.0000               254.0000   \n",
            "\n",
            "      Discover Weekly Engagement (%)  Repeat Song Rate (%)  \n",
            "mean                       50.296464              42.39106  \n",
            "50%                        50.420000              41.96000  \n",
            "\n",
            "Dispersion Measures:\n",
            "------------------------\n",
            "           Age  Minutes Streamed Per Day  Number of Songs Liked  \\\n",
            "std  13.763844                172.029822              146.36928   \n",
            "min  13.000000                 10.000000                1.00000   \n",
            "max  60.000000                600.000000              500.00000   \n",
            "\n",
            "     Discover Weekly Engagement (%)  Repeat Song Rate (%)  \n",
            "std                       23.171936             21.444121  \n",
            "min                       10.020000              5.000000  \n",
            "max                       89.990000             79.990000  \n",
            "\n",
            "Distribution Measures:\n",
            "------------------------\n",
            "Skew:\n",
            "Age                              -0.007464\n",
            "Minutes Streamed Per Day         -0.049038\n",
            "Number of Songs Liked            -0.020623\n",
            "Discover Weekly Engagement (%)   -0.011745\n",
            "Repeat Song Rate (%)              0.020087\n",
            "dtype: float64\n",
            "\n",
            "Kurt:\n",
            "Age                              -1.183236\n",
            "Minutes Streamed Per Day         -1.189069\n",
            "Number of Songs Liked            -1.233886\n",
            "Discover Weekly Engagement (%)   -1.192135\n",
            "Repeat Song Rate (%)             -1.192529\n",
            "dtype: float64\n"
          ]
        }
      ],
      "source": [
        "# Descriptive Statistics\n",
        "print(\"\\nDescriptive Statistics\")\n",
        "print(\"----------------------\")\n",
        "numeric_columns = df.select_dtypes(include=[np.number]).columns\n",
        "print(\"Central Tendency Measures:\")\n",
        "print(df[numeric_columns].describe().loc[['mean', '50%']])\n",
        "print(\"\\nDispersion Measures:\")\n",
        "print(\"------------------------\")\n",
        "print(df[numeric_columns].describe().loc[['std', 'min', 'max']])\n",
        "\n",
        "# Check for distribution normality (skewness and kurtosis)\n",
        "print(\"\\nDistribution Measures:\")\n",
        "print(\"------------------------\")\n",
        "print(\"Skew:\")\n",
        "print(df[numeric_columns].skew())\n",
        "print(\"\\nKurt:\")\n",
        "print(df[numeric_columns].kurt())"
      ]
    },
    {
      "cell_type": "code",
      "execution_count": 4,
      "metadata": {},
      "outputs": [
        {
          "name": "stdout",
          "output_type": "stream",
          "text": [
            "Values of User_ID :  ['U1000' 'U1001' 'U1002' ... 'U5997' 'U5998' 'U5999']\n",
            "\n",
            "Values of Country :  ['Japan' 'Germany' 'Australia' 'South Korea' 'UK' 'Brazil' 'Canada'\n",
            " 'India' 'USA' 'France']\n",
            "\n",
            "Values of Streaming Platform :  ['Tidal' 'Deezer' 'YouTube' 'Amazon Music' 'Spotify' 'Apple Music']\n",
            "\n",
            "Values of Top Genre :  ['Reggae' 'Country' 'Pop' 'EDM' 'Classical' 'Metal' 'Rock' 'Hip-Hop' 'R&B'\n",
            " 'Jazz']\n",
            "\n",
            "Values of Most Played Artist :  ['Adele' 'Ed Sheeran' 'Post Malone' 'Dua Lipa' 'The Weeknd'\n",
            " 'Billie Eilish' 'BTS' 'Taylor Swift' 'Drake' 'Bad Bunny']\n",
            "\n",
            "Values of Subscription Type :  ['Free' 'Premium']\n",
            "\n",
            "Values of Listening Time (Morning/Afternoon/Night) :  ['Afternoon' 'Night' 'Morning']\n",
            "\n"
          ]
        }
      ],
      "source": [
        "numeric_columns = df.select_dtypes(include=[np.number]).columns\n",
        "categorical_columns = [col for col in df.columns if col not in numeric_columns]\n",
        "\n",
        "for col in df.columns:\n",
        "    if col in categorical_columns:\n",
        "        print(\"Values of\", col, \": \", df[col].unique())\n",
        "        print()\n"
      ]
    },
    {
      "cell_type": "markdown",
      "metadata": {
        "id": "KaqH-JJilV8I"
      },
      "source": [
        "### Interpretation\n",
        "\n",
        "#### ==== For Numerical Features ====\n",
        "#### Descriptive Statistics\n",
        "The mean and median provide insights into the central location of the data. If the mean and median are almost the same value, then it indicates a roughly symmetric dsitribution for the feature values. From the dataset, it is shown that all features have a roughly symmetric distribution.\n",
        "\n",
        "#### Dispersion Measures\n",
        "These measures give us an understanding of the spread and range of the data. A large standard deviation value means the feature values have a large spread of values. The minimum and maximum values for the features tells us the range of the data. \n",
        "\n",
        "#### Distribution Measures\n",
        "Skewness values close to 0 indicate a symmetric distribution, while positive or negative values indicate right or left skew, respectively. As shown through the descriptive statistics and the skewness value, all features have a symmetric distribution. Kurtosis indicates the \"tailedness\" of the distribution; values close to 0 suggest a normal distribution, while higher values suggest heavier tails. Since the kurtosis values of each feature are about -1 or close to 0, there is barely any tails in the distribution. \n",
        "\n",
        "#### ==== For Categorical Features ====\n",
        "The unique values for each feature has been listed. For example, the countries of the users in this dataset only include Japan, Germany, Australia, South Korea, UK, Brazil, Canada, India, USA, France."
      ]
    },
    {
      "cell_type": "markdown",
      "metadata": {
        "id": "c6MFHMq6oHG3"
      },
      "source": [
        "## Questions we are asking: Diya\n",
        "* Are there any duplicated rows or inconsistent values?\n",
        "* Are there any outliers or extreme values that need attention?\n",
        "* Do the values make sense based on the context and domain knowledge?\n"
      ]
    },
    {
      "cell_type": "code",
      "execution_count": 5,
      "metadata": {
        "colab": {
          "base_uri": "https://localhost:8080/"
        },
        "id": "on4_0V9dlU3T",
        "outputId": "02b50166-20d6-4a36-e149-689308f84095"
      },
      "outputs": [
        {
          "name": "stdout",
          "output_type": "stream",
          "text": [
            "\n",
            "Data Quality\n",
            "------------\n",
            "Duplicated Rows: 0\n",
            "Checking for Inconsistent Values:\n",
            "                                         most_frequent_value\n",
            "User_ID                                                U5999\n",
            "Age                                                       32\n",
            "Country                                            Australia\n",
            "Streaming Platform                              Amazon Music\n",
            "Top Genre                                             Reggae\n",
            "Minutes Streamed Per Day                                 152\n",
            "Number of Songs Liked                                    320\n",
            "Most Played Artist                                 Bad Bunny\n",
            "Subscription Type                                    Premium\n",
            "Listening Time (Morning/Afternoon/Night)               Night\n",
            "Discover Weekly Engagement (%)                         76.66\n",
            "Repeat Song Rate (%)                                   16.59\n"
          ]
        }
      ],
      "source": [
        "# Data Quality\n",
        "print(\"\\nData Quality\")\n",
        "print(\"------------\")\n",
        "print(f\"Duplicated Rows: {df.duplicated().sum()}\")\n",
        "print(\"Checking for Inconsistent Values:\")\n",
        "print(df.apply(lambda x: x.value_counts().index[0]).to_frame('most_frequent_value'))"
      ]
    },
    {
      "cell_type": "markdown",
      "metadata": {
        "id": "GqCWqGlGlqPb"
      },
      "source": [
        "### Interpretation\n",
        "\n",
        "Duplicated Rows: There are no duplicated rows in the dataset.\n",
        "\n",
        "Inconsistent Values: Most frequent values for each column. This helps identify any potential inconsistencies or anomalies. For example, if an unusually high frequency is observed for a specific value, it might indicate an issue with data collection or entry. Since all the most frequent values for the features have reasonable values, it doesn't seem like there are inconsistencies or anomalies. Compared to the mean and 50% values found in Descriptive Statistics, the most frequent values differ by large amount.\n",
        "\n",
        "comment by Diya: When looking at the most_frequent_values, as a frequent listener, I compared my attributes to these values. I'm lower than the most frequent age, I'm from the US, I also have a premium subscription but to Spotify, and I mostly listen to music during the night."
      ]
    },
    {
      "cell_type": "markdown",
      "metadata": {
        "id": "MBX0rIitoNDs"
      },
      "source": [
        "## Questions we are asking: Diya\n",
        "\n",
        "* Is there any correlation between pairs of numerical variables?\n",
        "* Are there any noticeable patterns or trends in the data?\n",
        "* How are categorical variables related to numerical variables?\n"
      ]
    },
    {
      "cell_type": "code",
      "execution_count": 6,
      "metadata": {
        "colab": {
          "base_uri": "https://localhost:8080/",
          "height": 967
        },
        "id": "9I-lbaCNjdNP",
        "outputId": "ff81b7ed-e216-48aa-f399-f9b8c5462d21"
      },
      "outputs": [
        {
          "name": "stdout",
          "output_type": "stream",
          "text": [
            "\n",
            "Variable Relationships\n",
            "----------------------\n",
            "Correlation Matrix:\n",
            "                                     Age  Minutes Streamed Per Day  \\\n",
            "Age                             1.000000                  0.004166   \n",
            "Minutes Streamed Per Day        0.004166                  1.000000   \n",
            "Number of Songs Liked          -0.016668                  0.023487   \n",
            "Discover Weekly Engagement (%) -0.008872                 -0.004280   \n",
            "Repeat Song Rate (%)            0.007626                 -0.037508   \n",
            "\n",
            "                                Number of Songs Liked  \\\n",
            "Age                                         -0.016668   \n",
            "Minutes Streamed Per Day                     0.023487   \n",
            "Number of Songs Liked                        1.000000   \n",
            "Discover Weekly Engagement (%)               0.012447   \n",
            "Repeat Song Rate (%)                         0.005942   \n",
            "\n",
            "                                Discover Weekly Engagement (%)  \\\n",
            "Age                                                  -0.008872   \n",
            "Minutes Streamed Per Day                             -0.004280   \n",
            "Number of Songs Liked                                 0.012447   \n",
            "Discover Weekly Engagement (%)                        1.000000   \n",
            "Repeat Song Rate (%)                                  0.004186   \n",
            "\n",
            "                                Repeat Song Rate (%)  \n",
            "Age                                         0.007626  \n",
            "Minutes Streamed Per Day                   -0.037508  \n",
            "Number of Songs Liked                       0.005942  \n",
            "Discover Weekly Engagement (%)              0.004186  \n",
            "Repeat Song Rate (%)                        1.000000  \n"
          ]
        },
        {
          "data": {
            "image/png": "[encoded data removed]",
            "text/plain": [
              "<Figure size 1000x800 with 2 Axes>"
            ]
          },
          "metadata": {},
          "output_type": "display_data"
        }
      ],
      "source": [
        "# Variable Relationships\n",
        "print(\"\\nVariable Relationships\")\n",
        "print(\"----------------------\")\n",
        "print(\"Correlation Matrix:\")\n",
        "correlation_matrix = df[numeric_columns].corr()\n",
        "print(correlation_matrix)\n",
        "\n",
        "# Visualize the Correlation Matrix\n",
        "plt.figure(figsize=(10, 8))\n",
        "sns.heatmap(correlation_matrix, annot=True, cmap='coolwarm', fmt='.2f', linewidths=.5)\n",
        "plt.title('Correlation Matrix Heatmap')\n",
        "plt.show()"
      ]
    },
    {
      "cell_type": "markdown",
      "metadata": {
        "id": "oY6V_fCXl0MI"
      },
      "source": [
        "### Interpretation\n",
        "\n",
        "Positive correlation values (close to 1) indicate a strong direct relationship, while negative values (close to -1) indicate an inverse relationship.\n",
        "In this correlation matrix, all combinations of features have a correlation close to 0, indicating that there are no highly correlated features. So there are no features that need to be removed from the dataset."
      ]
    },
    {
      "cell_type": "code",
      "execution_count": 7,
      "metadata": {
        "colab": {
          "base_uri": "https://localhost:8080/",
          "height": 1000
        },
        "id": "t8nZlurQkHv2",
        "outputId": "cbe421f9-44dc-40e4-f68a-f51b2d2bd224"
      },
      "outputs": [
        {
          "data": {
            "image/png": "[encoded data removed]",
            "text/plain": [
              "<Figure size 1000x1000 with 6 Axes>"
            ]
          },
          "metadata": {},
          "output_type": "display_data"
        },
        {
          "data": {
            "image/png": "[encoded data removed]",
            "text/plain": [
              "<Figure size 1000x600 with 1 Axes>"
            ]
          },
          "metadata": {},
          "output_type": "display_data"
        }
      ],
      "source": [
        "\n",
        "# Visualize distributions\n",
        "df[numeric_columns].hist(bins=20, figsize=(10,10), grid=False)\n",
        "plt.suptitle('Histograms of Numeric Features', y=0.93)\n",
        "plt.show()\n",
        "\n",
        "# Box plots to identify outliers\n",
        "plt.figure(figsize=(10, 6))\n",
        "sns.boxplot(data=df[numeric_columns])\n",
        "plt.title('Box Plots of Numeric Features')\n",
        "plt.xlabel('Features')\n",
        "plt.ylabel('Value (cm)')\n",
        "plt.show()"
      ]
    },
    {
      "cell_type": "code",
      "execution_count": 8,
      "metadata": {},
      "outputs": [
        {
          "data": {
            "image/png": "[encoded data removed]",
            "text/plain": [
              "<Figure size 1000x1000 with 6 Axes>"
            ]
          },
          "metadata": {},
          "output_type": "display_data"
        }
      ],
      "source": [
        "fig, axes = plt.subplots(3, 2, figsize=(10,10))\n",
        "categorical_columns2 = categorical_columns[1:]\n",
        "for i, col in enumerate(categorical_columns2):\n",
        "    row = i // 2\n",
        "    col_idx = i % 2\n",
        "    df[col].value_counts().plot(kind='bar', ax=axes[row, col_idx])\n",
        "    axes[row, col_idx].set_title(f'Distribution of {col}')\n",
        "    axes[row, col_idx].tick_params(axis='x', rotation=45)\n",
        "\n",
        "plt.tight_layout()\n",
        "plt.show()"
      ]
    },
    {
      "cell_type": "markdown",
      "metadata": {
        "id": "oEp3tyQYl5-D"
      },
      "source": [
        "### Interpretation\n",
        "\n",
        "#### ==== For Numerical Features ====\n",
        "#### Histograms:\n",
        "\n",
        "Histograms display the distribution of each numerical feature. All the numerical features in this dataset have a symmetric distribution. \n",
        "\n",
        "#### Box Plots:\n",
        "\n",
        "Box plots highlight the spread of the data and potential outliers. All the numerical features in this dataset have no outliers. The box plot also shows that \"Minutes Streamed Per Day\" and \"Number of Songs Liked\" have a wider spread than the other numerical features.\n",
        "\n",
        "\n",
        "#### ==== For Numerical Features ====\n",
        "#### Histograms:\n",
        "\n",
        "The histograms display the count of each value for each categorical feature. The feature value to the left of each feature's histogram indicates the value with the most frequent value that was calculated previously.\n",
        "\n",
        "comment by Diya: this dataset is so well behaved!"
      ]
    },
    {
      "cell_type": "markdown",
      "metadata": {
        "id": "2k00v7-Vobbo"
      },
      "source": [
        "## Questions we are asking:\n",
        "\n",
        "* Are there any new features that can be derived from the existing ones?\n",
        "* Is there a need to transform or scale any variables?\n",
        "* Are there any variables that can be combined or decomposed?\n"
      ]
    },
    {
      "cell_type": "code",
      "execution_count": null,
      "metadata": {
        "colab": {
          "base_uri": "https://localhost:8080/",
          "height": 620
        },
        "id": "qYRe5D9Bjylz",
        "outputId": "d7d96e0a-c987-45a5-9047-c8621a5c610c"
      },
      "outputs": [
        {
          "name": "stdout",
          "output_type": "stream",
          "text": [
            "['Adele' 'Ed Sheeran' 'Post Malone' 'Dua Lipa' 'The Weeknd'\n",
            " 'Billie Eilish' 'BTS' 'Taylor Swift' 'Drake' 'Bad Bunny']\n",
            "  User_ID  Age    Country Streaming Platform Top Genre  \\\n",
            "0   U1000   34      Japan              Tidal    Reggae   \n",
            "1   U1001   24    Germany             Deezer   Country   \n",
            "2   U1002   49    Germany             Deezer       Pop   \n",
            "3   U1003   55  Australia            YouTube    Reggae   \n",
            "4   U1004   13    Germany       Amazon Music    Reggae   \n",
            "\n",
            "   Minutes Streamed Per Day  Number of Songs Liked Most Played Artist  \\\n",
            "0                       295                    138              Adele   \n",
            "1                        86                    388         Ed Sheeran   \n",
            "2                       363                    368        Post Malone   \n",
            "3                       348                    349           Dua Lipa   \n",
            "4                        30                    328              Adele   \n",
            "\n",
            "  Subscription Type Listening Time (Morning/Afternoon/Night)  \\\n",
            "0              Free                                Afternoon   \n",
            "1           Premium                                    Night   \n",
            "2           Premium                                Afternoon   \n",
            "3           Premium                                  Morning   \n",
            "4              Free                                    Night   \n",
            "\n",
            "   Discover Weekly Engagement (%)  Repeat Song Rate (%)  \\\n",
            "0                           47.42                 16.74   \n",
            "1                           12.06                 69.25   \n",
            "2                           47.19                 67.38   \n",
            "3                           31.27                 76.51   \n",
            "4                           30.68                 43.41   \n",
            "\n",
            "  Most Played Artist Country  \n",
            "0                         UK  \n",
            "1                         UK  \n",
            "2                        USA  \n",
            "3                         UK  \n",
            "4                         UK  \n"
          ]
        }
      ],
      "source": [
        "# Feature Engineering\n",
        "# Tiffany - add the new feature here!\n",
        "# we are choosing to create a new feature called artist_country which is the country the artist is from\n",
        "# this is important because it can help us understand the cultural influences on music preferences\n",
        "# and how they vary across different regions\n",
        "# this can also help us identify potential markets for music streaming services\n",
        "# and tailor marketing strategies accordingly\n",
        "# we will create this feature by searching for the country of each unique artist and adding it to the dataset\n",
        "print(df[\"Most Played Artist\"].unique())\n",
        "artist_countries = {\n",
        "    \"Taylor Swift\": \"USA\",\n",
        "    \"Drake\": \"Canada\",\n",
        "    \"Bad Bunny\": \"Puerto Rico\",\n",
        "    \"BTS\": \"South Korea\",\n",
        "    \"Billie Eilish\": \"USA\",\n",
        "    \"The Weeknd\": \"Canada\",\n",
        "    \"Ed Sheeran\": \"UK\",\n",
        "    \"Dua Lipa\": \"UK\",\n",
        "    \"Adele\": \"UK\",\n",
        "    \"Post Malone\": \"USA\",\n",
        "}\n",
        "#df[\"Most Played Artist Country\"] = df[\"Most Played Artist\"].map(artist_countries)\n",
        "print(df.head())\n",
        "\n"
      ]
    },
    {
      "cell_type": "markdown",
      "metadata": {
        "id": "v7xX3z1rmH-t"
      },
      "source": [
        "### Interpretation\n",
        "\n",
        "#### New Feature:\n",
        "We added this new feature to help us understand the cultural influences on music preferences\n"
      ]
    },
    {
      "cell_type": "markdown",
      "metadata": {
        "id": "akhpjlX7srNo"
      },
      "source": [
        "# Visualizations"
      ]
    },
    {
      "cell_type": "code",
      "execution_count": 10,
      "metadata": {
        "colab": {
          "base_uri": "https://localhost:8080/",
          "height": 834
        },
        "id": "aR7X0JvVsskt",
        "outputId": "0e287960-d403-4dbb-d674-e158a724bbd7"
      },
      "outputs": [
        {
          "name": "stderr",
          "output_type": "stream",
          "text": [
            "c:\\Users\\tiffa\\AppData\\Local\\Programs\\Python\\Python313\\Lib\\site-packages\\seaborn\\categorical.py:3399: UserWarning: 14.0% of the points cannot be placed; you may want to decrease the size of the markers or use stripplot.\n",
            "  warnings.warn(msg, UserWarning)\n",
            "c:\\Users\\tiffa\\AppData\\Local\\Programs\\Python\\Python313\\Lib\\site-packages\\seaborn\\categorical.py:3399: UserWarning: 28.0% of the points cannot be placed; you may want to decrease the size of the markers or use stripplot.\n",
            "  warnings.warn(msg, UserWarning)\n",
            "c:\\Users\\tiffa\\AppData\\Local\\Programs\\Python\\Python313\\Lib\\site-packages\\seaborn\\categorical.py:3399: UserWarning: 18.0% of the points cannot be placed; you may want to decrease the size of the markers or use stripplot.\n",
            "  warnings.warn(msg, UserWarning)\n"
          ]
        },
        {
          "data": {
            "image/png": "[encoded data removed]",
            "text/plain": [
              "<Figure size 2000x1000 with 9 Axes>"
            ]
          },
          "metadata": {},
          "output_type": "display_data"
        }
      ],
      "source": [
        "import seaborn as sns\n",
        "import matplotlib.pyplot as plt\n",
        "import pandas as pd\n",
        "from sklearn.datasets import load_iris\n",
        "\n",
        "# Load the Iris dataset\n",
        "iris = load_iris()\n",
        "iris_df = sns.load_dataset(\"iris\")\n",
        "\n",
        "# Create a figure with subplots\n",
        "fig, axes = plt.subplots(2, 4, figsize=(20, 10))\n",
        "\n",
        "# Histogram\n",
        "sns.histplot(data=iris_df, x=\"sepal_length\", ax=axes[0, 0])\n",
        "axes[0, 0].set_title('Histogram')\n",
        "\n",
        "# Bar chart\n",
        "sns.countplot(x=\"species\", data=iris_df, ax=axes[0, 1])\n",
        "axes[0, 1].set_title('Bar Chart')\n",
        "\n",
        "# Box plot\n",
        "sns.boxplot(x=\"species\", y=\"petal_length\", data=iris_df, ax=axes[0, 2])\n",
        "axes[0, 2].set_title('Box Plot')\n",
        "\n",
        "# Violin plot\n",
        "sns.violinplot(x=\"species\", y=\"petal_width\", data=iris_df, ax=axes[0, 3])\n",
        "axes[0, 3].set_title('Violin Plot')\n",
        "\n",
        "# Scatter plot\n",
        "sns.scatterplot(x=\"sepal_length\", y=\"sepal_width\", data=iris_df, ax=axes[1, 0])\n",
        "axes[1, 0].set_title('Scatter Plot')\n",
        "\n",
        "# Swarm plot\n",
        "sns.swarmplot(x=\"species\", y=\"petal_length\", data=iris_df, ax=axes[1, 1])\n",
        "axes[1, 1].set_title('Swarm Plot')\n",
        "\n",
        "# Heatmap\n",
        "# Drop the species column before calculating the correlation matrix\n",
        "corr_df = iris_df.drop(\"species\", axis=1).corr()\n",
        "sns.heatmap(corr_df, annot=True, cmap=\"coolwarm\", ax=axes[1, 2])\n",
        "axes[1, 2].set_title('Heatmap')\n",
        "\n",
        "# Line plot\n",
        "sns.lineplot(x=iris_df.index, y=\"sepal_length\", data=iris_df, ax=axes[1, 3])\n",
        "axes[1, 3].set_title('Line Plot')\n",
        "axes[1, 3].set_xlabel(\"Samples\")\n",
        "\n",
        "# Adjust layout\n",
        "plt.tight_layout()\n",
        "plt.show()\n",
        "\n"
      ]
    },
    {
      "cell_type": "code",
      "execution_count": 11,
      "metadata": {
        "colab": {
          "base_uri": "https://localhost:8080/",
          "height": 337
        },
        "id": "snLpPtGUuBuo",
        "outputId": "41e09016-fbee-4727-c3b5-ed13f6fe18b3"
      },
      "outputs": [
        {
          "data": {
            "image/png": "[encoded data removed]",
            "text/plain": [
              "<Figure size 900x300 with 3 Axes>"
            ]
          },
          "metadata": {},
          "output_type": "display_data"
        }
      ],
      "source": [
        "# Facet grid\n",
        "g = sns.FacetGrid(iris_df, col=\"species\", hue=\"species\", palette=\"Set1\", col_wrap=3)\n",
        "g.map(sns.histplot, \"sepal_length\")\n",
        "g.set_titles(\"{col_name}\")\n",
        "g.fig.suptitle(\"Facet Grid\", y=1.05)\n",
        "plt.show()"
      ]
    },
    {
      "cell_type": "markdown",
      "metadata": {},
      "source": [
        "#tiffany - \n",
        "    - top arists based on country:)\n",
        "    - top country(users) based on top artist\n",
        "    - what country are the artists that are most listened to come from"
      ]
    },
    {
      "cell_type": "markdown",
      "metadata": {},
      "source": [
        "## Finding the number of unique users per country"
      ]
    },
    {
      "cell_type": "code",
      "execution_count": 17,
      "metadata": {},
      "outputs": [
        {
          "name": "stdout",
          "output_type": "stream",
          "text": [
            "       Country  User_ID\n",
            "0    Australia      526\n",
            "8           UK      516\n",
            "7  South Korea      516\n",
            "1       Brazil      508\n",
            "2       Canada      507\n",
            "3       France      493\n",
            "6        Japan      491\n",
            "5        India      490\n",
            "9          USA      482\n",
            "4      Germany      471\n"
          ]
        }
      ],
      "source": [
        "#finding the number of unique users per country\n",
        "users_per_country = df.groupby(\"Country\")[\"User_ID\"].nunique().reset_index()\n",
        "users_per_country = users_per_country.sort_values(by=\"User_ID\", ascending=False)\n",
        "print(users_per_country)\n"
      ]
    },
    {
      "cell_type": "markdown",
      "metadata": {},
      "source": [
        "## Visualizing this"
      ]
    },
    {
      "cell_type": "code",
      "execution_count": 18,
      "metadata": {},
      "outputs": [
        {
          "data": {
            "image/png": "[encoded data removed]",
            "text/plain": [
              "<Figure size 1200x600 with 1 Axes>"
            ]
          },
          "metadata": {},
          "output_type": "display_data"
        }
      ],
      "source": [
        "import matplotlib.pyplot as plt\n",
        "\n",
        "# Plot top countries by unique users\n",
        "plt.figure(figsize=(12,6))\n",
        "plt.bar(users_per_country[\"Country\"], users_per_country[\"User_ID\"], color=\"skyblue\")\n",
        "\n",
        "plt.xticks(rotation=45, ha=\"right\")\n",
        "plt.xlabel(\"Country\")\n",
        "plt.ylabel(\"Number of Unique Users\")\n",
        "plt.title(\"Unique Users per Country (Top Artists)\")\n",
        "plt.tight_layout()\n",
        "plt.show()\n"
      ]
    },
    {
      "cell_type": "markdown",
      "metadata": {},
      "source": [
        "## We decided to use horizontal bar graphs because the bar plots didnt show the distinctions as clearly"
      ]
    },
    {
      "cell_type": "code",
      "execution_count": 19,
      "metadata": {},
      "outputs": [
        {
          "data": {
            "image/png": "[encoded data removed]",
            "text/plain": [
              "<Figure size 1000x800 with 1 Axes>"
            ]
          },
          "metadata": {},
          "output_type": "display_data"
        }
      ],
      "source": [
        "plt.figure(figsize=(10,8))\n",
        "plt.barh(users_per_country[\"Country\"], users_per_country[\"User_ID\"], color=\"skyblue\")\n",
        "\n",
        "plt.xlabel(\"Number of Unique Users\")\n",
        "plt.ylabel(\"Country\")\n",
        "plt.title(\"Unique Users per Country (Top Artists)\")\n",
        "plt.gca().invert_yaxis()  # largest at top\n",
        "plt.tight_layout()\n",
        "plt.show()\n"
      ]
    },
    {
      "cell_type": "markdown",
      "metadata": {},
      "source": [
        "## This an an interactive map and with it we stand to debunk the datasets claim of \"global\" Only few countries are represented in this dataset"
      ]
    },
    {
      "cell_type": "code",
      "execution_count": null,
      "metadata": {},
      "outputs": [
        {
          "name": "stderr",
          "output_type": "stream",
          "text": [
            "C:\\Users\\tiffa\\AppData\\Local\\Temp\\ipykernel_4184\\655621120.py:3: DeprecationWarning:\n",
            "\n",
            "The library used by the *country names* `locationmode` option is changing in an upcoming version. Country names in existing plots may not work in the new version. To ensure consistent behavior, consider setting `locationmode` to *ISO-3*.\n",
            "\n"
          ]
        },
        {
          "data": {
            "application/vnd.plotly.v1+json": {
              "config": {
                "plotlyServerURL": "https://plot.ly"
              },
              "data": [
                {
                  "coloraxis": "coloraxis",
                  "geo": "geo",
                  "hovertemplate": "Country=%{location}<br>User_ID=%{z}<extra></extra>",
                  "locationmode": "country names",
                  "locations": [
                    "Australia",
                    "UK",
                    "South Korea",
                    "Brazil",
                    "Canada",
                    "France",
                    "Japan",
                    "India",
                    "USA",
                    "Germany"
                  ],
                  "name": "",
                  "type": "choropleth",
                  "z": {
                    "bdata": "DgIEAgQC/AH7Ae0B6wHqAeIB1wE=",
                    "dtype": "i2"
                  }
                }
              ],
              "layout": {
                "coloraxis": {
                  "colorbar": {
                    "title": {
                      "text": "User_ID"
                    }
                  },
                  "colorscale": [
                    [
                      0,
                      "rgb(247,251,255)"
                    ],
                    [
                      0.125,
                      "rgb(222,235,247)"
                    ],
                    [
                      0.25,
                      "rgb(198,219,239)"
                    ],
                    [
                      0.375,
                      "rgb(158,202,225)"
                    ],
                    [
                      0.5,
                      "rgb(107,174,214)"
                    ],
                    [
                      0.625,
                      "rgb(66,146,198)"
                    ],
                    [
                      0.75,
                      "rgb(33,113,181)"
                    ],
                    [
                      0.875,
                      "rgb(8,81,156)"
                    ],
                    [
                      1,
                      "rgb(8,48,107)"
                    ]
                  ]
                },
                "geo": {
                  "center": {},
                  "domain": {
                    "x": [
                      0,
                      1
                    ],
                    "y": [
                      0,
                      1
                    ]
                  }
                },
                "legend": {
                  "tracegroupgap": 0
                },
                "template": {
                  "data": {
                    "bar": [
                      {
                        "error_x": {
                          "color": "#2a3f5f"
                        },
                        "error_y": {
                          "color": "#2a3f5f"
                        },
                        "marker": {
                          "line": {
                            "color": "#E5ECF6",
                            "width": 0.5
                          },
                          "pattern": {
                            "fillmode": "overlay",
                            "size": 10,
                            "solidity": 0.2
                          }
                        },
                        "type": "bar"
                      }
                    ],
                    "barpolar": [
                      {
                        "marker": {
                          "line": {
                            "color": "#E5ECF6",
                            "width": 0.5
                          },
                          "pattern": {
                            "fillmode": "overlay",
                            "size": 10,
                            "solidity": 0.2
                          }
                        },
                        "type": "barpolar"
                      }
                    ],
                    "carpet": [
                      {
                        "aaxis": {
                          "endlinecolor": "#2a3f5f",
                          "gridcolor": "white",
                          "linecolor": "white",
                          "minorgridcolor": "white",
                          "startlinecolor": "#2a3f5f"
                        },
                        "baxis": {
                          "endlinecolor": "#2a3f5f",
                          "gridcolor": "white",
                          "linecolor": "white",
                          "minorgridcolor": "white",
                          "startlinecolor": "#2a3f5f"
                        },
                        "type": "carpet"
                      }
                    ],
                    "choropleth": [
                      {
                        "colorbar": {
                          "outlinewidth": 0,
                          "ticks": ""
                        },
                        "type": "choropleth"
                      }
                    ],
                    "contour": [
                      {
                        "colorbar": {
                          "outlinewidth": 0,
                          "ticks": ""
                        },
                        "colorscale": [
                          [
                            0,
                            "#0d0887"
                          ],
                          [
                            0.1111111111111111,
                            "#46039f"
                          ],
                          [
                            0.2222222222222222,
                            "#7201a8"
                          ],
                          [
                            0.3333333333333333,
                            "#9c179e"
                          ],
                          [
                            0.4444444444444444,
                            "#bd3786"
                          ],
                          [
                            0.5555555555555556,
                            "#d8576b"
                          ],
                          [
                            0.6666666666666666,
                            "#ed7953"
                          ],
                          [
                            0.7777777777777778,
                            "#fb9f3a"
                          ],
                          [
                            0.8888888888888888,
                            "#fdca26"
                          ],
                          [
                            1,
                            "#f0f921"
                          ]
                        ],
                        "type": "contour"
                      }
                    ],
                    "contourcarpet": [
                      {
                        "colorbar": {
                          "outlinewidth": 0,
                          "ticks": ""
                        },
                        "type": "contourcarpet"
                      }
                    ],
                    "heatmap": [
                      {
                        "colorbar": {
                          "outlinewidth": 0,
                          "ticks": ""
                        },
                        "colorscale": [
                          [
                            0,
                            "#0d0887"
                          ],
                          [
                            0.1111111111111111,
                            "#46039f"
                          ],
                          [
                            0.2222222222222222,
                            "#7201a8"
                          ],
                          [
                            0.3333333333333333,
                            "#9c179e"
                          ],
                          [
                            0.4444444444444444,
                            "#bd3786"
                          ],
                          [
                            0.5555555555555556,
                            "#d8576b"
                          ],
                          [
                            0.6666666666666666,
                            "#ed7953"
                          ],
                          [
                            0.7777777777777778,
                            "#fb9f3a"
                          ],
                          [
                            0.8888888888888888,
                            "#fdca26"
                          ],
                          [
                            1,
                            "#f0f921"
                          ]
                        ],
                        "type": "heatmap"
                      }
                    ],
                    "histogram": [
                      {
                        "marker": {
                          "pattern": {
                            "fillmode": "overlay",
                            "size": 10,
                            "solidity": 0.2
                          }
                        },
                        "type": "histogram"
                      }
                    ],
                    "histogram2d": [
                      {
                        "colorbar": {
                          "outlinewidth": 0,
                          "ticks": ""
                        },
                        "colorscale": [
                          [
                            0,
                            "#0d0887"
                          ],
                          [
                            0.1111111111111111,
                            "#46039f"
                          ],
                          [
                            0.2222222222222222,
                            "#7201a8"
                          ],
                          [
                            0.3333333333333333,
                            "#9c179e"
                          ],
                          [
                            0.4444444444444444,
                            "#bd3786"
                          ],
                          [
                            0.5555555555555556,
                            "#d8576b"
                          ],
                          [
                            0.6666666666666666,
                            "#ed7953"
                          ],
                          [
                            0.7777777777777778,
                            "#fb9f3a"
                          ],
                          [
                            0.8888888888888888,
                            "#fdca26"
                          ],
                          [
                            1,
                            "#f0f921"
                          ]
                        ],
                        "type": "histogram2d"
                      }
                    ],
                    "histogram2dcontour": [
                      {
                        "colorbar": {
                          "outlinewidth": 0,
                          "ticks": ""
                        },
                        "colorscale": [
                          [
                            0,
                            "#0d0887"
                          ],
                          [
                            0.1111111111111111,
                            "#46039f"
                          ],
                          [
                            0.2222222222222222,
                            "#7201a8"
                          ],
                          [
                            0.3333333333333333,
                            "#9c179e"
                          ],
                          [
                            0.4444444444444444,
                            "#bd3786"
                          ],
                          [
                            0.5555555555555556,
                            "#d8576b"
                          ],
                          [
                            0.6666666666666666,
                            "#ed7953"
                          ],
                          [
                            0.7777777777777778,
                            "#fb9f3a"
                          ],
                          [
                            0.8888888888888888,
                            "#fdca26"
                          ],
                          [
                            1,
                            "#f0f921"
                          ]
                        ],
                        "type": "histogram2dcontour"
                      }
                    ],
                    "mesh3d": [
                      {
                        "colorbar": {
                          "outlinewidth": 0,
                          "ticks": ""
                        },
                        "type": "mesh3d"
                      }
                    ],
                    "parcoords": [
                      {
                        "line": {
                          "colorbar": {
                            "outlinewidth": 0,
                            "ticks": ""
                          }
                        },
                        "type": "parcoords"
                      }
                    ],
                    "pie": [
                      {
                        "automargin": true,
                        "type": "pie"
                      }
                    ],
                    "scatter": [
                      {
                        "fillpattern": {
                          "fillmode": "overlay",
                          "size": 10,
                          "solidity": 0.2
                        },
                        "type": "scatter"
                      }
                    ],
                    "scatter3d": [
                      {
                        "line": {
                          "colorbar": {
                            "outlinewidth": 0,
                            "ticks": ""
                          }
                        },
                        "marker": {
                          "colorbar": {
                            "outlinewidth": 0,
                            "ticks": ""
                          }
                        },
                        "type": "scatter3d"
                      }
                    ],
                    "scattercarpet": [
                      {
                        "marker": {
                          "colorbar": {
                            "outlinewidth": 0,
                            "ticks": ""
                          }
                        },
                        "type": "scattercarpet"
                      }
                    ],
                    "scattergeo": [
                      {
                        "marker": {
                          "colorbar": {
                            "outlinewidth": 0,
                            "ticks": ""
                          }
                        },
                        "type": "scattergeo"
                      }
                    ],
                    "scattergl": [
                      {
                        "marker": {
                          "colorbar": {
                            "outlinewidth": 0,
                            "ticks": ""
                          }
                        },
                        "type": "scattergl"
                      }
                    ],
                    "scattermap": [
                      {
                        "marker": {
                          "colorbar": {
                            "outlinewidth": 0,
                            "ticks": ""
                          }
                        },
                        "type": "scattermap"
                      }
                    ],
                    "scattermapbox": [
                      {
                        "marker": {
                          "colorbar": {
                            "outlinewidth": 0,
                            "ticks": ""
                          }
                        },
                        "type": "scattermapbox"
                      }
                    ],
                    "scatterpolar": [
                      {
                        "marker": {
                          "colorbar": {
                            "outlinewidth": 0,
                            "ticks": ""
                          }
                        },
                        "type": "scatterpolar"
                      }
                    ],
                    "scatterpolargl": [
                      {
                        "marker": {
                          "colorbar": {
                            "outlinewidth": 0,
                            "ticks": ""
                          }
                        },
                        "type": "scatterpolargl"
                      }
                    ],
                    "scatterternary": [
                      {
                        "marker": {
                          "colorbar": {
                            "outlinewidth": 0,
                            "ticks": ""
                          }
                        },
                        "type": "scatterternary"
                      }
                    ],
                    "surface": [
                      {
                        "colorbar": {
                          "outlinewidth": 0,
                          "ticks": ""
                        },
                        "colorscale": [
                          [
                            0,
                            "#0d0887"
                          ],
                          [
                            0.1111111111111111,
                            "#46039f"
                          ],
                          [
                            0.2222222222222222,
                            "#7201a8"
                          ],
                          [
                            0.3333333333333333,
                            "#9c179e"
                          ],
                          [
                            0.4444444444444444,
                            "#bd3786"
                          ],
                          [
                            0.5555555555555556,
                            "#d8576b"
                          ],
                          [
                            0.6666666666666666,
                            "#ed7953"
                          ],
                          [
                            0.7777777777777778,
                            "#fb9f3a"
                          ],
                          [
                            0.8888888888888888,
                            "#fdca26"
                          ],
                          [
                            1,
                            "#f0f921"
                          ]
                        ],
                        "type": "surface"
                      }
                    ],
                    "table": [
                      {
                        "cells": {
                          "fill": {
                            "color": "#EBF0F8"
                          },
                          "line": {
                            "color": "white"
                          }
                        },
                        "header": {
                          "fill": {
                            "color": "#C8D4E3"
                          },
                          "line": {
                            "color": "white"
                          }
                        },
                        "type": "table"
                      }
                    ]
                  },
                  "layout": {
                    "annotationdefaults": {
                      "arrowcolor": "#2a3f5f",
                      "arrowhead": 0,
                      "arrowwidth": 1
                    },
                    "autotypenumbers": "strict",
                    "coloraxis": {
                      "colorbar": {
                        "outlinewidth": 0,
                        "ticks": ""
                      }
                    },
                    "colorscale": {
                      "diverging": [
                        [
                          0,
                          "#8e0152"
                        ],
                        [
                          0.1,
                          "#c51b7d"
                        ],
                        [
                          0.2,
                          "#de77ae"
                        ],
                        [
                          0.3,
                          "#f1b6da"
                        ],
                        [
                          0.4,
                          "#fde0ef"
                        ],
                        [
                          0.5,
                          "#f7f7f7"
                        ],
                        [
                          0.6,
                          "#e6f5d0"
                        ],
                        [
                          0.7,
                          "#b8e186"
                        ],
                        [
                          0.8,
                          "#7fbc41"
                        ],
                        [
                          0.9,
                          "#4d9221"
                        ],
                        [
                          1,
                          "#276419"
                        ]
                      ],
                      "sequential": [
                        [
                          0,
                          "#0d0887"
                        ],
                        [
                          0.1111111111111111,
                          "#46039f"
                        ],
                        [
                          0.2222222222222222,
                          "#7201a8"
                        ],
                        [
                          0.3333333333333333,
                          "#9c179e"
                        ],
                        [
                          0.4444444444444444,
                          "#bd3786"
                        ],
                        [
                          0.5555555555555556,
                          "#d8576b"
                        ],
                        [
                          0.6666666666666666,
                          "#ed7953"
                        ],
                        [
                          0.7777777777777778,
                          "#fb9f3a"
                        ],
                        [
                          0.8888888888888888,
                          "#fdca26"
                        ],
                        [
                          1,
                          "#f0f921"
                        ]
                      ],
                      "sequentialminus": [
                        [
                          0,
                          "#0d0887"
                        ],
                        [
                          0.1111111111111111,
                          "#46039f"
                        ],
                        [
                          0.2222222222222222,
                          "#7201a8"
                        ],
                        [
                          0.3333333333333333,
                          "#9c179e"
                        ],
                        [
                          0.4444444444444444,
                          "#bd3786"
                        ],
                        [
                          0.5555555555555556,
                          "#d8576b"
                        ],
                        [
                          0.6666666666666666,
                          "#ed7953"
                        ],
                        [
                          0.7777777777777778,
                          "#fb9f3a"
                        ],
                        [
                          0.8888888888888888,
                          "#fdca26"
                        ],
                        [
                          1,
                          "#f0f921"
                        ]
                      ]
                    },
                    "colorway": [
                      "#636efa",
                      "#EF553B",
                      "#00cc96",
                      "#ab63fa",
                      "#FFA15A",
                      "#19d3f3",
                      "#FF6692",
                      "#B6E880",
                      "#FF97FF",
                      "#FECB52"
                    ],
                    "font": {
                      "color": "#2a3f5f"
                    },
                    "geo": {
                      "bgcolor": "white",
                      "lakecolor": "white",
                      "landcolor": "#E5ECF6",
                      "showlakes": true,
                      "showland": true,
                      "subunitcolor": "white"
                    },
                    "hoverlabel": {
                      "align": "left"
                    },
                    "hovermode": "closest",
                    "mapbox": {
                      "style": "light"
                    },
                    "paper_bgcolor": "white",
                    "plot_bgcolor": "#E5ECF6",
                    "polar": {
                      "angularaxis": {
                        "gridcolor": "white",
                        "linecolor": "white",
                        "ticks": ""
                      },
                      "bgcolor": "#E5ECF6",
                      "radialaxis": {
                        "gridcolor": "white",
                        "linecolor": "white",
                        "ticks": ""
                      }
                    },
                    "scene": {
                      "xaxis": {
                        "backgroundcolor": "#E5ECF6",
                        "gridcolor": "white",
                        "gridwidth": 2,
                        "linecolor": "white",
                        "showbackground": true,
                        "ticks": "",
                        "zerolinecolor": "white"
                      },
                      "yaxis": {
                        "backgroundcolor": "#E5ECF6",
                        "gridcolor": "white",
                        "gridwidth": 2,
                        "linecolor": "white",
                        "showbackground": true,
                        "ticks": "",
                        "zerolinecolor": "white"
                      },
                      "zaxis": {
                        "backgroundcolor": "#E5ECF6",
                        "gridcolor": "white",
                        "gridwidth": 2,
                        "linecolor": "white",
                        "showbackground": true,
                        "ticks": "",
                        "zerolinecolor": "white"
                      }
                    },
                    "shapedefaults": {
                      "line": {
                        "color": "#2a3f5f"
                      }
                    },
                    "ternary": {
                      "aaxis": {
                        "gridcolor": "white",
                        "linecolor": "white",
                        "ticks": ""
                      },
                      "baxis": {
                        "gridcolor": "white",
                        "linecolor": "white",
                        "ticks": ""
                      },
                      "bgcolor": "#E5ECF6",
                      "caxis": {
                        "gridcolor": "white",
                        "linecolor": "white",
                        "ticks": ""
                      }
                    },
                    "title": {
                      "x": 0.05
                    },
                    "xaxis": {
                      "automargin": true,
                      "gridcolor": "white",
                      "linecolor": "white",
                      "ticks": "",
                      "title": {
                        "standoff": 15
                      },
                      "zerolinecolor": "white",
                      "zerolinewidth": 2
                    },
                    "yaxis": {
                      "automargin": true,
                      "gridcolor": "white",
                      "linecolor": "white",
                      "ticks": "",
                      "title": {
                        "standoff": 15
                      },
                      "zerolinecolor": "white",
                      "zerolinewidth": 2
                    }
                  }
                },
                "title": {
                  "text": "Unique Users per Country (Top Artists)"
                }
              }
            }
          },
          "metadata": {},
          "output_type": "display_data"
        }
      ],
      "source": [
        "import plotly.express as px\n",
        "\n",
        "fig = px.choropleth(\n",
        "    users_per_country,\n",
        "    locations=\"Country\",\n",
        "    locationmode=\"country names\",\n",
        "    color=\"User_ID\",\n",
        "    color_continuous_scale=\"Blues\",\n",
        "    title=\"Unique Users per Country\"\n",
        ")\n",
        "fig.show()\n"
      ]
    },
    {
      "cell_type": "markdown",
      "metadata": {},
      "source": [
        "## For each country, the artist with the most unique listeners\n",
        "## We noticed there was a tie between Billie Eilish and BTS after running the top country for each artist in the cell after this so we included checks to allow for ties so it doesnt result to default of whichever came first after sorting"
      ]
    },
    {
      "cell_type": "code",
      "execution_count": 27,
      "metadata": {},
      "outputs": [
        {
          "name": "stdout",
          "output_type": "stream",
          "text": [
            "        Country Most Played Artist  User Count\n",
            "7     Australia        Post Malone          65\n",
            "15       Brazil           Dua Lipa          61\n",
            "22       Canada          Bad Bunny          59\n",
            "31       France                BTS          64\n",
            "40      Germany              Adele          56\n",
            "54        India              Drake          62\n",
            "61        Japan                BTS          55\n",
            "63        Japan      Billie Eilish          55\n",
            "77  South Korea        Post Malone          65\n",
            "80           UK              Adele          65\n",
            "82           UK          Bad Bunny          65\n",
            "92          USA          Bad Bunny          53\n"
          ]
        }
      ],
      "source": [
        "# Get user counts per country-artist pair\n",
        "artist_country_counts = (\n",
        "    df.groupby([\"Country\", \"Most Played Artist\"])[\"User_ID\"]\n",
        "      .nunique()\n",
        "      .reset_index(name=\"User Count\")\n",
        ")\n",
        "\n",
        "# Find the max users per country\n",
        "max_counts = artist_country_counts.groupby(\"Country\")[\"User Count\"].transform(\"max\")\n",
        "\n",
        "# Keep only rows where User Count = max for that country\n",
        "top_artists_by_country = artist_country_counts[artist_country_counts[\"User Count\"] == max_counts]\n",
        "\n",
        "print(top_artists_by_country)\n"
      ]
    },
    {
      "cell_type": "markdown",
      "metadata": {},
      "source": [
        "# Visualizing"
      ]
    },
    {
      "cell_type": "code",
      "execution_count": 29,
      "metadata": {},
      "outputs": [
        {
          "name": "stderr",
          "output_type": "stream",
          "text": [
            "C:\\Users\\tiffa\\AppData\\Local\\Temp\\ipykernel_4184\\2506671393.py:4: SettingWithCopyWarning:\n",
            "\n",
            "\n",
            "A value is trying to be set on a copy of a slice from a DataFrame.\n",
            "Try using .loc[row_indexer,col_indexer] = value instead\n",
            "\n",
            "See the caveats in the documentation: https://pandas.pydata.org/pandas-docs/stable/user_guide/indexing.html#returning-a-view-versus-a-copy\n",
            "\n"
          ]
        },
        {
          "data": {
            "image/png": "[encoded data removed]",
            "text/plain": [
              "<Figure size 1000x800 with 1 Axes>"
            ]
          },
          "metadata": {},
          "output_type": "display_data"
        }
      ],
      "source": [
        "import matplotlib.pyplot as plt\n",
        "\n",
        "# Combine artist + country into one label\n",
        "top_artists_by_country[\"Label\"] = (\n",
        "    top_artists_by_country[\"Country\"] + \" - \" + top_artists_by_country[\"Most Played Artist\"]\n",
        ")\n",
        "\n",
        "plt.figure(figsize=(10,8))\n",
        "plt.barh(top_artists_by_country[\"Label\"], top_artists_by_country[\"User Count\"], color=\"skyblue\")\n",
        "\n",
        "plt.xlabel(\"Number of Unique Users\")\n",
        "plt.ylabel(\"Country - Top Artist\")\n",
        "plt.title(\"Top Artist(s) per Country by Unique Users\")\n",
        "plt.gca().invert_yaxis()  # largest on top\n",
        "plt.tight_layout()\n",
        "plt.show()\n"
      ]
    },
    {
      "cell_type": "markdown",
      "metadata": {},
      "source": [
        "## Country where each unique artist in our dataset is listened to the most"
      ]
    },
    {
      "cell_type": "code",
      "execution_count": 30,
      "metadata": {},
      "outputs": [
        {
          "name": "stdout",
          "output_type": "stream",
          "text": [
            "  Most Played Artist    Country  User Count\n",
            "0              Adele         UK          65\n",
            "1                BTS     France          64\n",
            "2          Bad Bunny         UK          65\n",
            "3      Billie Eilish      Japan          55\n",
            "4              Drake      India          62\n",
            "5           Dua Lipa     Brazil          61\n",
            "6         Ed Sheeran     Canada          56\n",
            "7        Post Malone  Australia          65\n",
            "8       Taylor Swift  Australia          62\n",
            "9         The Weeknd  Australia          55\n"
          ]
        }
      ],
      "source": [
        "import pandas as pd\n",
        "\n",
        "# 1. Group by both artist and country, count unique users\n",
        "artist_country_users = (\n",
        "    df.groupby([\"Most Played Artist\", \"Country\"])[\"User_ID\"]\n",
        "      .nunique()\n",
        "      .reset_index(name=\"User Count\")\n",
        ")\n",
        "\n",
        "# 2. Sort so the largest user counts per artist come first\n",
        "artist_country_users = artist_country_users.sort_values(\n",
        "    [\"Most Played Artist\", \"User Count\"],\n",
        "    ascending=[True, False]\n",
        ")\n",
        "\n",
        "# 3. Keep only the top country for each artist\n",
        "top_country_by_artist = (\n",
        "    artist_country_users.groupby(\"Most Played Artist\")\n",
        "    .first()   # first row after sorting = top country\n",
        "    .reset_index()\n",
        ")\n",
        "\n",
        "print(top_country_by_artist)\n"
      ]
    },
    {
      "cell_type": "markdown",
      "metadata": {},
      "source": [
        "# Visualizing"
      ]
    },
    {
      "cell_type": "code",
      "execution_count": 34,
      "metadata": {},
      "outputs": [
        {
          "name": "stderr",
          "output_type": "stream",
          "text": [
            "C:\\Users\\tiffa\\AppData\\Local\\Temp\\ipykernel_4184\\3092918707.py:3: DeprecationWarning:\n",
            "\n",
            "The library used by the *country names* `locationmode` option is changing in an upcoming version. Country names in existing plots may not work in the new version. To ensure consistent behavior, consider setting `locationmode` to *ISO-3*.\n",
            "\n"
          ]
        },
        {
          "data": {
            "application/vnd.plotly.v1+json": {
              "config": {
                "plotlyServerURL": "https://plot.ly"
              },
              "data": [
                {
                  "coloraxis": "coloraxis",
                  "geo": "geo",
                  "hovertemplate": "<b>%{hovertext}</b><br><br>Country=%{location}<br>User Count=%{z}<extra></extra>",
                  "hovertext": [
                    "Adele",
                    "BTS",
                    "Bad Bunny",
                    "Billie Eilish",
                    "Drake",
                    "Dua Lipa",
                    "Ed Sheeran",
                    "Post Malone",
                    "Taylor Swift",
                    "The Weeknd"
                  ],
                  "locationmode": "country names",
                  "locations": [
                    "UK",
                    "France",
                    "UK",
                    "Japan",
                    "India",
                    "Brazil",
                    "Canada",
                    "Australia",
                    "Australia",
                    "Australia"
                  ],
                  "name": "",
                  "type": "choropleth",
                  "z": {
                    "bdata": "QUBBNz49OEE+Nw==",
                    "dtype": "i1"
                  }
                }
              ],
              "layout": {
                "coloraxis": {
                  "colorbar": {
                    "title": {
                      "text": "User Count"
                    }
                  },
                  "colorscale": [
                    [
                      0,
                      "rgb(247,251,255)"
                    ],
                    [
                      0.125,
                      "rgb(222,235,247)"
                    ],
                    [
                      0.25,
                      "rgb(198,219,239)"
                    ],
                    [
                      0.375,
                      "rgb(158,202,225)"
                    ],
                    [
                      0.5,
                      "rgb(107,174,214)"
                    ],
                    [
                      0.625,
                      "rgb(66,146,198)"
                    ],
                    [
                      0.75,
                      "rgb(33,113,181)"
                    ],
                    [
                      0.875,
                      "rgb(8,81,156)"
                    ],
                    [
                      1,
                      "rgb(8,48,107)"
                    ]
                  ]
                },
                "geo": {
                  "center": {},
                  "domain": {
                    "x": [
                      0,
                      1
                    ],
                    "y": [
                      0,
                      1
                    ]
                  }
                },
                "legend": {
                  "tracegroupgap": 0
                },
                "template": {
                  "data": {
                    "bar": [
                      {
                        "error_x": {
                          "color": "#2a3f5f"
                        },
                        "error_y": {
                          "color": "#2a3f5f"
                        },
                        "marker": {
                          "line": {
                            "color": "#E5ECF6",
                            "width": 0.5
                          },
                          "pattern": {
                            "fillmode": "overlay",
                            "size": 10,
                            "solidity": 0.2
                          }
                        },
                        "type": "bar"
                      }
                    ],
                    "barpolar": [
                      {
                        "marker": {
                          "line": {
                            "color": "#E5ECF6",
                            "width": 0.5
                          },
                          "pattern": {
                            "fillmode": "overlay",
                            "size": 10,
                            "solidity": 0.2
                          }
                        },
                        "type": "barpolar"
                      }
                    ],
                    "carpet": [
                      {
                        "aaxis": {
                          "endlinecolor": "#2a3f5f",
                          "gridcolor": "white",
                          "linecolor": "white",
                          "minorgridcolor": "white",
                          "startlinecolor": "#2a3f5f"
                        },
                        "baxis": {
                          "endlinecolor": "#2a3f5f",
                          "gridcolor": "white",
                          "linecolor": "white",
                          "minorgridcolor": "white",
                          "startlinecolor": "#2a3f5f"
                        },
                        "type": "carpet"
                      }
                    ],
                    "choropleth": [
                      {
                        "colorbar": {
                          "outlinewidth": 0,
                          "ticks": ""
                        },
                        "type": "choropleth"
                      }
                    ],
                    "contour": [
                      {
                        "colorbar": {
                          "outlinewidth": 0,
                          "ticks": ""
                        },
                        "colorscale": [
                          [
                            0,
                            "#0d0887"
                          ],
                          [
                            0.1111111111111111,
                            "#46039f"
                          ],
                          [
                            0.2222222222222222,
                            "#7201a8"
                          ],
                          [
                            0.3333333333333333,
                            "#9c179e"
                          ],
                          [
                            0.4444444444444444,
                            "#bd3786"
                          ],
                          [
                            0.5555555555555556,
                            "#d8576b"
                          ],
                          [
                            0.6666666666666666,
                            "#ed7953"
                          ],
                          [
                            0.7777777777777778,
                            "#fb9f3a"
                          ],
                          [
                            0.8888888888888888,
                            "#fdca26"
                          ],
                          [
                            1,
                            "#f0f921"
                          ]
                        ],
                        "type": "contour"
                      }
                    ],
                    "contourcarpet": [
                      {
                        "colorbar": {
                          "outlinewidth": 0,
                          "ticks": ""
                        },
                        "type": "contourcarpet"
                      }
                    ],
                    "heatmap": [
                      {
                        "colorbar": {
                          "outlinewidth": 0,
                          "ticks": ""
                        },
                        "colorscale": [
                          [
                            0,
                            "#0d0887"
                          ],
                          [
                            0.1111111111111111,
                            "#46039f"
                          ],
                          [
                            0.2222222222222222,
                            "#7201a8"
                          ],
                          [
                            0.3333333333333333,
                            "#9c179e"
                          ],
                          [
                            0.4444444444444444,
                            "#bd3786"
                          ],
                          [
                            0.5555555555555556,
                            "#d8576b"
                          ],
                          [
                            0.6666666666666666,
                            "#ed7953"
                          ],
                          [
                            0.7777777777777778,
                            "#fb9f3a"
                          ],
                          [
                            0.8888888888888888,
                            "#fdca26"
                          ],
                          [
                            1,
                            "#f0f921"
                          ]
                        ],
                        "type": "heatmap"
                      }
                    ],
                    "histogram": [
                      {
                        "marker": {
                          "pattern": {
                            "fillmode": "overlay",
                            "size": 10,
                            "solidity": 0.2
                          }
                        },
                        "type": "histogram"
                      }
                    ],
                    "histogram2d": [
                      {
                        "colorbar": {
                          "outlinewidth": 0,
                          "ticks": ""
                        },
                        "colorscale": [
                          [
                            0,
                            "#0d0887"
                          ],
                          [
                            0.1111111111111111,
                            "#46039f"
                          ],
                          [
                            0.2222222222222222,
                            "#7201a8"
                          ],
                          [
                            0.3333333333333333,
                            "#9c179e"
                          ],
                          [
                            0.4444444444444444,
                            "#bd3786"
                          ],
                          [
                            0.5555555555555556,
                            "#d8576b"
                          ],
                          [
                            0.6666666666666666,
                            "#ed7953"
                          ],
                          [
                            0.7777777777777778,
                            "#fb9f3a"
                          ],
                          [
                            0.8888888888888888,
                            "#fdca26"
                          ],
                          [
                            1,
                            "#f0f921"
                          ]
                        ],
                        "type": "histogram2d"
                      }
                    ],
                    "histogram2dcontour": [
                      {
                        "colorbar": {
                          "outlinewidth": 0,
                          "ticks": ""
                        },
                        "colorscale": [
                          [
                            0,
                            "#0d0887"
                          ],
                          [
                            0.1111111111111111,
                            "#46039f"
                          ],
                          [
                            0.2222222222222222,
                            "#7201a8"
                          ],
                          [
                            0.3333333333333333,
                            "#9c179e"
                          ],
                          [
                            0.4444444444444444,
                            "#bd3786"
                          ],
                          [
                            0.5555555555555556,
                            "#d8576b"
                          ],
                          [
                            0.6666666666666666,
                            "#ed7953"
                          ],
                          [
                            0.7777777777777778,
                            "#fb9f3a"
                          ],
                          [
                            0.8888888888888888,
                            "#fdca26"
                          ],
                          [
                            1,
                            "#f0f921"
                          ]
                        ],
                        "type": "histogram2dcontour"
                      }
                    ],
                    "mesh3d": [
                      {
                        "colorbar": {
                          "outlinewidth": 0,
                          "ticks": ""
                        },
                        "type": "mesh3d"
                      }
                    ],
                    "parcoords": [
                      {
                        "line": {
                          "colorbar": {
                            "outlinewidth": 0,
                            "ticks": ""
                          }
                        },
                        "type": "parcoords"
                      }
                    ],
                    "pie": [
                      {
                        "automargin": true,
                        "type": "pie"
                      }
                    ],
                    "scatter": [
                      {
                        "fillpattern": {
                          "fillmode": "overlay",
                          "size": 10,
                          "solidity": 0.2
                        },
                        "type": "scatter"
                      }
                    ],
                    "scatter3d": [
                      {
                        "line": {
                          "colorbar": {
                            "outlinewidth": 0,
                            "ticks": ""
                          }
                        },
                        "marker": {
                          "colorbar": {
                            "outlinewidth": 0,
                            "ticks": ""
                          }
                        },
                        "type": "scatter3d"
                      }
                    ],
                    "scattercarpet": [
                      {
                        "marker": {
                          "colorbar": {
                            "outlinewidth": 0,
                            "ticks": ""
                          }
                        },
                        "type": "scattercarpet"
                      }
                    ],
                    "scattergeo": [
                      {
                        "marker": {
                          "colorbar": {
                            "outlinewidth": 0,
                            "ticks": ""
                          }
                        },
                        "type": "scattergeo"
                      }
                    ],
                    "scattergl": [
                      {
                        "marker": {
                          "colorbar": {
                            "outlinewidth": 0,
                            "ticks": ""
                          }
                        },
                        "type": "scattergl"
                      }
                    ],
                    "scattermap": [
                      {
                        "marker": {
                          "colorbar": {
                            "outlinewidth": 0,
                            "ticks": ""
                          }
                        },
                        "type": "scattermap"
                      }
                    ],
                    "scattermapbox": [
                      {
                        "marker": {
                          "colorbar": {
                            "outlinewidth": 0,
                            "ticks": ""
                          }
                        },
                        "type": "scattermapbox"
                      }
                    ],
                    "scatterpolar": [
                      {
                        "marker": {
                          "colorbar": {
                            "outlinewidth": 0,
                            "ticks": ""
                          }
                        },
                        "type": "scatterpolar"
                      }
                    ],
                    "scatterpolargl": [
                      {
                        "marker": {
                          "colorbar": {
                            "outlinewidth": 0,
                            "ticks": ""
                          }
                        },
                        "type": "scatterpolargl"
                      }
                    ],
                    "scatterternary": [
                      {
                        "marker": {
                          "colorbar": {
                            "outlinewidth": 0,
                            "ticks": ""
                          }
                        },
                        "type": "scatterternary"
                      }
                    ],
                    "surface": [
                      {
                        "colorbar": {
                          "outlinewidth": 0,
                          "ticks": ""
                        },
                        "colorscale": [
                          [
                            0,
                            "#0d0887"
                          ],
                          [
                            0.1111111111111111,
                            "#46039f"
                          ],
                          [
                            0.2222222222222222,
                            "#7201a8"
                          ],
                          [
                            0.3333333333333333,
                            "#9c179e"
                          ],
                          [
                            0.4444444444444444,
                            "#bd3786"
                          ],
                          [
                            0.5555555555555556,
                            "#d8576b"
                          ],
                          [
                            0.6666666666666666,
                            "#ed7953"
                          ],
                          [
                            0.7777777777777778,
                            "#fb9f3a"
                          ],
                          [
                            0.8888888888888888,
                            "#fdca26"
                          ],
                          [
                            1,
                            "#f0f921"
                          ]
                        ],
                        "type": "surface"
                      }
                    ],
                    "table": [
                      {
                        "cells": {
                          "fill": {
                            "color": "#EBF0F8"
                          },
                          "line": {
                            "color": "white"
                          }
                        },
                        "header": {
                          "fill": {
                            "color": "#C8D4E3"
                          },
                          "line": {
                            "color": "white"
                          }
                        },
                        "type": "table"
                      }
                    ]
                  },
                  "layout": {
                    "annotationdefaults": {
                      "arrowcolor": "#2a3f5f",
                      "arrowhead": 0,
                      "arrowwidth": 1
                    },
                    "autotypenumbers": "strict",
                    "coloraxis": {
                      "colorbar": {
                        "outlinewidth": 0,
                        "ticks": ""
                      }
                    },
                    "colorscale": {
                      "diverging": [
                        [
                          0,
                          "#8e0152"
                        ],
                        [
                          0.1,
                          "#c51b7d"
                        ],
                        [
                          0.2,
                          "#de77ae"
                        ],
                        [
                          0.3,
                          "#f1b6da"
                        ],
                        [
                          0.4,
                          "#fde0ef"
                        ],
                        [
                          0.5,
                          "#f7f7f7"
                        ],
                        [
                          0.6,
                          "#e6f5d0"
                        ],
                        [
                          0.7,
                          "#b8e186"
                        ],
                        [
                          0.8,
                          "#7fbc41"
                        ],
                        [
                          0.9,
                          "#4d9221"
                        ],
                        [
                          1,
                          "#276419"
                        ]
                      ],
                      "sequential": [
                        [
                          0,
                          "#0d0887"
                        ],
                        [
                          0.1111111111111111,
                          "#46039f"
                        ],
                        [
                          0.2222222222222222,
                          "#7201a8"
                        ],
                        [
                          0.3333333333333333,
                          "#9c179e"
                        ],
                        [
                          0.4444444444444444,
                          "#bd3786"
                        ],
                        [
                          0.5555555555555556,
                          "#d8576b"
                        ],
                        [
                          0.6666666666666666,
                          "#ed7953"
                        ],
                        [
                          0.7777777777777778,
                          "#fb9f3a"
                        ],
                        [
                          0.8888888888888888,
                          "#fdca26"
                        ],
                        [
                          1,
                          "#f0f921"
                        ]
                      ],
                      "sequentialminus": [
                        [
                          0,
                          "#0d0887"
                        ],
                        [
                          0.1111111111111111,
                          "#46039f"
                        ],
                        [
                          0.2222222222222222,
                          "#7201a8"
                        ],
                        [
                          0.3333333333333333,
                          "#9c179e"
                        ],
                        [
                          0.4444444444444444,
                          "#bd3786"
                        ],
                        [
                          0.5555555555555556,
                          "#d8576b"
                        ],
                        [
                          0.6666666666666666,
                          "#ed7953"
                        ],
                        [
                          0.7777777777777778,
                          "#fb9f3a"
                        ],
                        [
                          0.8888888888888888,
                          "#fdca26"
                        ],
                        [
                          1,
                          "#f0f921"
                        ]
                      ]
                    },
                    "colorway": [
                      "#636efa",
                      "#EF553B",
                      "#00cc96",
                      "#ab63fa",
                      "#FFA15A",
                      "#19d3f3",
                      "#FF6692",
                      "#B6E880",
                      "#FF97FF",
                      "#FECB52"
                    ],
                    "font": {
                      "color": "#2a3f5f"
                    },
                    "geo": {
                      "bgcolor": "white",
                      "lakecolor": "white",
                      "landcolor": "#E5ECF6",
                      "showlakes": true,
                      "showland": true,
                      "subunitcolor": "white"
                    },
                    "hoverlabel": {
                      "align": "left"
                    },
                    "hovermode": "closest",
                    "mapbox": {
                      "style": "light"
                    },
                    "paper_bgcolor": "white",
                    "plot_bgcolor": "#E5ECF6",
                    "polar": {
                      "angularaxis": {
                        "gridcolor": "white",
                        "linecolor": "white",
                        "ticks": ""
                      },
                      "bgcolor": "#E5ECF6",
                      "radialaxis": {
                        "gridcolor": "white",
                        "linecolor": "white",
                        "ticks": ""
                      }
                    },
                    "scene": {
                      "xaxis": {
                        "backgroundcolor": "#E5ECF6",
                        "gridcolor": "white",
                        "gridwidth": 2,
                        "linecolor": "white",
                        "showbackground": true,
                        "ticks": "",
                        "zerolinecolor": "white"
                      },
                      "yaxis": {
                        "backgroundcolor": "#E5ECF6",
                        "gridcolor": "white",
                        "gridwidth": 2,
                        "linecolor": "white",
                        "showbackground": true,
                        "ticks": "",
                        "zerolinecolor": "white"
                      },
                      "zaxis": {
                        "backgroundcolor": "#E5ECF6",
                        "gridcolor": "white",
                        "gridwidth": 2,
                        "linecolor": "white",
                        "showbackground": true,
                        "ticks": "",
                        "zerolinecolor": "white"
                      }
                    },
                    "shapedefaults": {
                      "line": {
                        "color": "#2a3f5f"
                      }
                    },
                    "ternary": {
                      "aaxis": {
                        "gridcolor": "white",
                        "linecolor": "white",
                        "ticks": ""
                      },
                      "baxis": {
                        "gridcolor": "white",
                        "linecolor": "white",
                        "ticks": ""
                      },
                      "bgcolor": "#E5ECF6",
                      "caxis": {
                        "gridcolor": "white",
                        "linecolor": "white",
                        "ticks": ""
                      }
                    },
                    "title": {
                      "x": 0.05
                    },
                    "xaxis": {
                      "automargin": true,
                      "gridcolor": "white",
                      "linecolor": "white",
                      "ticks": "",
                      "title": {
                        "standoff": 15
                      },
                      "zerolinecolor": "white",
                      "zerolinewidth": 2
                    },
                    "yaxis": {
                      "automargin": true,
                      "gridcolor": "white",
                      "linecolor": "white",
                      "ticks": "",
                      "title": {
                        "standoff": 15
                      },
                      "zerolinecolor": "white",
                      "zerolinewidth": 2
                    }
                  }
                },
                "title": {
                  "text": "Top Listener Country for Each Artist"
                }
              }
            }
          },
          "metadata": {},
          "output_type": "display_data"
        }
      ],
      "source": [
        "import plotly.express as px\n",
        "\n",
        "fig = px.choropleth(\n",
        "    top_country_by_artist,\n",
        "    locations=\"Country\",\n",
        "    locationmode=\"country names\",\n",
        "    color=\"User Count\",\n",
        "    hover_name=\"Most Played Artist\",\n",
        "    title=\"Top Listener Country for Each Artist\",\n",
        "    color_continuous_scale=\"Blues\"\n",
        ")\n",
        "fig.show()\n"
      ]
    },
    {
      "cell_type": "markdown",
      "metadata": {},
      "source": [
        "## Origin Country of most listened to artists"
      ]
    },
    {
      "cell_type": "code",
      "execution_count": 40,
      "metadata": {},
      "outputs": [
        {
          "name": "stdout",
          "output_type": "stream",
          "text": [
            "  Most Played Artist Most Played Artist Country  User Count\n",
            "2          Bad Bunny                Puerto Rico         528\n",
            "0              Adele                         UK         519\n",
            "7        Post Malone                        USA         519\n",
            "5           Dua Lipa                         UK         502\n",
            "6         Ed Sheeran                         UK         500\n",
            "8       Taylor Swift                        USA         496\n",
            "9         The Weeknd                     Canada         490\n",
            "1                BTS                South Korea         488\n",
            "4              Drake                     Canada         481\n",
            "3      Billie Eilish                        USA         477\n"
          ]
        }
      ],
      "source": [
        "# Count unique users per artist and their origin country\n",
        "artist_origin_counts = (\n",
        "    df.groupby([\"Most Played Artist\", \"Most Played Artist Country\"])[\"User_ID\"]\n",
        "      .nunique()\n",
        "      .reset_index(name=\"User Count\")\n",
        "      .sort_values(by=\"User Count\", ascending=False)\n",
        ")\n",
        "\n",
        "print(artist_origin_counts)\n"
      ]
    },
    {
      "cell_type": "markdown",
      "metadata": {},
      "source": [
        "# Visualizing"
      ]
    },
    {
      "cell_type": "code",
      "execution_count": 43,
      "metadata": {},
      "outputs": [
        {
          "data": {
            "application/vnd.plotly.v1+json": {
              "config": {
                "plotlyServerURL": "https://plot.ly"
              },
              "data": [
                {
                  "branchvalues": "total",
                  "customdata": [
                    [
                      "Canada"
                    ],
                    [
                      "Canada"
                    ],
                    [
                      "Canada"
                    ],
                    [
                      "Puerto Rico"
                    ],
                    [
                      "Puerto Rico"
                    ],
                    [
                      "South Korea"
                    ],
                    [
                      "South Korea"
                    ],
                    [
                      "UK"
                    ],
                    [
                      "UK"
                    ],
                    [
                      "UK"
                    ],
                    [
                      "UK"
                    ],
                    [
                      "USA"
                    ],
                    [
                      "USA"
                    ],
                    [
                      "USA"
                    ],
                    [
                      "USA"
                    ]
                  ],
                  "domain": {
                    "x": [
                      0,
                      1
                    ],
                    "y": [
                      0,
                      1
                    ]
                  },
                  "hovertemplate": "labels=%{label}<br>User Count=%{value}<br>parent=%{parent}<br>id=%{id}<br>Most Played Artist Country=%{customdata[0]}<extra></extra>",
                  "ids": [
                    "Canada/The Weeknd",
                    "Canada/Drake",
                    "Canada",
                    "Puerto Rico/Bad Bunny",
                    "Puerto Rico",
                    "South Korea/BTS",
                    "South Korea",
                    "UK/Adele",
                    "UK/Dua Lipa",
                    "UK/Ed Sheeran",
                    "UK",
                    "USA/Post Malone",
                    "USA/Taylor Swift",
                    "USA/Billie Eilish",
                    "USA"
                  ],
                  "labels": [
                    "The Weeknd",
                    "Drake",
                    "Canada",
                    "Bad Bunny",
                    "Puerto Rico",
                    "BTS",
                    "South Korea",
                    "Adele",
                    "Dua Lipa",
                    "Ed Sheeran",
                    "UK",
                    "Post Malone",
                    "Taylor Swift",
                    "Billie Eilish",
                    "USA"
                  ],
                  "marker": {
                    "colors": [
                      "#636efa",
                      "#636efa",
                      "#636efa",
                      "#EF553B",
                      "#EF553B",
                      "#00cc96",
                      "#00cc96",
                      "#ab63fa",
                      "#ab63fa",
                      "#ab63fa",
                      "#ab63fa",
                      "#FFA15A",
                      "#FFA15A",
                      "#FFA15A",
                      "#FFA15A"
                    ]
                  },
                  "name": "",
                  "parents": [
                    "Canada",
                    "Canada",
                    "",
                    "Puerto Rico",
                    "",
                    "South Korea",
                    "",
                    "UK",
                    "UK",
                    "UK",
                    "",
                    "USA",
                    "USA",
                    "USA",
                    ""
                  ],
                  "type": "treemap",
                  "values": {
                    "bdata": "AAAAAACgfkAAAAAAABB+QAAAAAAAWI5AAAAAAACAgEAAAAAAAICAQAAAAAAAgH5AAAAAAACAfkAAAAAAADiAQAAAAAAAYH9AAAAAAABAf0AAAAAAAMSXQAAAAAAAOIBAAAAAAAAAf0AAAAAAANB9QAAAAAAAUJdA",
                    "dtype": "f8"
                  }
                }
              ],
              "layout": {
                "legend": {
                  "tracegroupgap": 0
                },
                "template": {
                  "data": {
                    "bar": [
                      {
                        "error_x": {
                          "color": "#2a3f5f"
                        },
                        "error_y": {
                          "color": "#2a3f5f"
                        },
                        "marker": {
                          "line": {
                            "color": "#E5ECF6",
                            "width": 0.5
                          },
                          "pattern": {
                            "fillmode": "overlay",
                            "size": 10,
                            "solidity": 0.2
                          }
                        },
                        "type": "bar"
                      }
                    ],
                    "barpolar": [
                      {
                        "marker": {
                          "line": {
                            "color": "#E5ECF6",
                            "width": 0.5
                          },
                          "pattern": {
                            "fillmode": "overlay",
                            "size": 10,
                            "solidity": 0.2
                          }
                        },
                        "type": "barpolar"
                      }
                    ],
                    "carpet": [
                      {
                        "aaxis": {
                          "endlinecolor": "#2a3f5f",
                          "gridcolor": "white",
                          "linecolor": "white",
                          "minorgridcolor": "white",
                          "startlinecolor": "#2a3f5f"
                        },
                        "baxis": {
                          "endlinecolor": "#2a3f5f",
                          "gridcolor": "white",
                          "linecolor": "white",
                          "minorgridcolor": "white",
                          "startlinecolor": "#2a3f5f"
                        },
                        "type": "carpet"
                      }
                    ],
                    "choropleth": [
                      {
                        "colorbar": {
                          "outlinewidth": 0,
                          "ticks": ""
                        },
                        "type": "choropleth"
                      }
                    ],
                    "contour": [
                      {
                        "colorbar": {
                          "outlinewidth": 0,
                          "ticks": ""
                        },
                        "colorscale": [
                          [
                            0,
                            "#0d0887"
                          ],
                          [
                            0.1111111111111111,
                            "#46039f"
                          ],
                          [
                            0.2222222222222222,
                            "#7201a8"
                          ],
                          [
                            0.3333333333333333,
                            "#9c179e"
                          ],
                          [
                            0.4444444444444444,
                            "#bd3786"
                          ],
                          [
                            0.5555555555555556,
                            "#d8576b"
                          ],
                          [
                            0.6666666666666666,
                            "#ed7953"
                          ],
                          [
                            0.7777777777777778,
                            "#fb9f3a"
                          ],
                          [
                            0.8888888888888888,
                            "#fdca26"
                          ],
                          [
                            1,
                            "#f0f921"
                          ]
                        ],
                        "type": "contour"
                      }
                    ],
                    "contourcarpet": [
                      {
                        "colorbar": {
                          "outlinewidth": 0,
                          "ticks": ""
                        },
                        "type": "contourcarpet"
                      }
                    ],
                    "heatmap": [
                      {
                        "colorbar": {
                          "outlinewidth": 0,
                          "ticks": ""
                        },
                        "colorscale": [
                          [
                            0,
                            "#0d0887"
                          ],
                          [
                            0.1111111111111111,
                            "#46039f"
                          ],
                          [
                            0.2222222222222222,
                            "#7201a8"
                          ],
                          [
                            0.3333333333333333,
                            "#9c179e"
                          ],
                          [
                            0.4444444444444444,
                            "#bd3786"
                          ],
                          [
                            0.5555555555555556,
                            "#d8576b"
                          ],
                          [
                            0.6666666666666666,
                            "#ed7953"
                          ],
                          [
                            0.7777777777777778,
                            "#fb9f3a"
                          ],
                          [
                            0.8888888888888888,
                            "#fdca26"
                          ],
                          [
                            1,
                            "#f0f921"
                          ]
                        ],
                        "type": "heatmap"
                      }
                    ],
                    "histogram": [
                      {
                        "marker": {
                          "pattern": {
                            "fillmode": "overlay",
                            "size": 10,
                            "solidity": 0.2
                          }
                        },
                        "type": "histogram"
                      }
                    ],
                    "histogram2d": [
                      {
                        "colorbar": {
                          "outlinewidth": 0,
                          "ticks": ""
                        },
                        "colorscale": [
                          [
                            0,
                            "#0d0887"
                          ],
                          [
                            0.1111111111111111,
                            "#46039f"
                          ],
                          [
                            0.2222222222222222,
                            "#7201a8"
                          ],
                          [
                            0.3333333333333333,
                            "#9c179e"
                          ],
                          [
                            0.4444444444444444,
                            "#bd3786"
                          ],
                          [
                            0.5555555555555556,
                            "#d8576b"
                          ],
                          [
                            0.6666666666666666,
                            "#ed7953"
                          ],
                          [
                            0.7777777777777778,
                            "#fb9f3a"
                          ],
                          [
                            0.8888888888888888,
                            "#fdca26"
                          ],
                          [
                            1,
                            "#f0f921"
                          ]
                        ],
                        "type": "histogram2d"
                      }
                    ],
                    "histogram2dcontour": [
                      {
                        "colorbar": {
                          "outlinewidth": 0,
                          "ticks": ""
                        },
                        "colorscale": [
                          [
                            0,
                            "#0d0887"
                          ],
                          [
                            0.1111111111111111,
                            "#46039f"
                          ],
                          [
                            0.2222222222222222,
                            "#7201a8"
                          ],
                          [
                            0.3333333333333333,
                            "#9c179e"
                          ],
                          [
                            0.4444444444444444,
                            "#bd3786"
                          ],
                          [
                            0.5555555555555556,
                            "#d8576b"
                          ],
                          [
                            0.6666666666666666,
                            "#ed7953"
                          ],
                          [
                            0.7777777777777778,
                            "#fb9f3a"
                          ],
                          [
                            0.8888888888888888,
                            "#fdca26"
                          ],
                          [
                            1,
                            "#f0f921"
                          ]
                        ],
                        "type": "histogram2dcontour"
                      }
                    ],
                    "mesh3d": [
                      {
                        "colorbar": {
                          "outlinewidth": 0,
                          "ticks": ""
                        },
                        "type": "mesh3d"
                      }
                    ],
                    "parcoords": [
                      {
                        "line": {
                          "colorbar": {
                            "outlinewidth": 0,
                            "ticks": ""
                          }
                        },
                        "type": "parcoords"
                      }
                    ],
                    "pie": [
                      {
                        "automargin": true,
                        "type": "pie"
                      }
                    ],
                    "scatter": [
                      {
                        "fillpattern": {
                          "fillmode": "overlay",
                          "size": 10,
                          "solidity": 0.2
                        },
                        "type": "scatter"
                      }
                    ],
                    "scatter3d": [
                      {
                        "line": {
                          "colorbar": {
                            "outlinewidth": 0,
                            "ticks": ""
                          }
                        },
                        "marker": {
                          "colorbar": {
                            "outlinewidth": 0,
                            "ticks": ""
                          }
                        },
                        "type": "scatter3d"
                      }
                    ],
                    "scattercarpet": [
                      {
                        "marker": {
                          "colorbar": {
                            "outlinewidth": 0,
                            "ticks": ""
                          }
                        },
                        "type": "scattercarpet"
                      }
                    ],
                    "scattergeo": [
                      {
                        "marker": {
                          "colorbar": {
                            "outlinewidth": 0,
                            "ticks": ""
                          }
                        },
                        "type": "scattergeo"
                      }
                    ],
                    "scattergl": [
                      {
                        "marker": {
                          "colorbar": {
                            "outlinewidth": 0,
                            "ticks": ""
                          }
                        },
                        "type": "scattergl"
                      }
                    ],
                    "scattermap": [
                      {
                        "marker": {
                          "colorbar": {
                            "outlinewidth": 0,
                            "ticks": ""
                          }
                        },
                        "type": "scattermap"
                      }
                    ],
                    "scattermapbox": [
                      {
                        "marker": {
                          "colorbar": {
                            "outlinewidth": 0,
                            "ticks": ""
                          }
                        },
                        "type": "scattermapbox"
                      }
                    ],
                    "scatterpolar": [
                      {
                        "marker": {
                          "colorbar": {
                            "outlinewidth": 0,
                            "ticks": ""
                          }
                        },
                        "type": "scatterpolar"
                      }
                    ],
                    "scatterpolargl": [
                      {
                        "marker": {
                          "colorbar": {
                            "outlinewidth": 0,
                            "ticks": ""
                          }
                        },
                        "type": "scatterpolargl"
                      }
                    ],
                    "scatterternary": [
                      {
                        "marker": {
                          "colorbar": {
                            "outlinewidth": 0,
                            "ticks": ""
                          }
                        },
                        "type": "scatterternary"
                      }
                    ],
                    "surface": [
                      {
                        "colorbar": {
                          "outlinewidth": 0,
                          "ticks": ""
                        },
                        "colorscale": [
                          [
                            0,
                            "#0d0887"
                          ],
                          [
                            0.1111111111111111,
                            "#46039f"
                          ],
                          [
                            0.2222222222222222,
                            "#7201a8"
                          ],
                          [
                            0.3333333333333333,
                            "#9c179e"
                          ],
                          [
                            0.4444444444444444,
                            "#bd3786"
                          ],
                          [
                            0.5555555555555556,
                            "#d8576b"
                          ],
                          [
                            0.6666666666666666,
                            "#ed7953"
                          ],
                          [
                            0.7777777777777778,
                            "#fb9f3a"
                          ],
                          [
                            0.8888888888888888,
                            "#fdca26"
                          ],
                          [
                            1,
                            "#f0f921"
                          ]
                        ],
                        "type": "surface"
                      }
                    ],
                    "table": [
                      {
                        "cells": {
                          "fill": {
                            "color": "#EBF0F8"
                          },
                          "line": {
                            "color": "white"
                          }
                        },
                        "header": {
                          "fill": {
                            "color": "#C8D4E3"
                          },
                          "line": {
                            "color": "white"
                          }
                        },
                        "type": "table"
                      }
                    ]
                  },
                  "layout": {
                    "annotationdefaults": {
                      "arrowcolor": "#2a3f5f",
                      "arrowhead": 0,
                      "arrowwidth": 1
                    },
                    "autotypenumbers": "strict",
                    "coloraxis": {
                      "colorbar": {
                        "outlinewidth": 0,
                        "ticks": ""
                      }
                    },
                    "colorscale": {
                      "diverging": [
                        [
                          0,
                          "#8e0152"
                        ],
                        [
                          0.1,
                          "#c51b7d"
                        ],
                        [
                          0.2,
                          "#de77ae"
                        ],
                        [
                          0.3,
                          "#f1b6da"
                        ],
                        [
                          0.4,
                          "#fde0ef"
                        ],
                        [
                          0.5,
                          "#f7f7f7"
                        ],
                        [
                          0.6,
                          "#e6f5d0"
                        ],
                        [
                          0.7,
                          "#b8e186"
                        ],
                        [
                          0.8,
                          "#7fbc41"
                        ],
                        [
                          0.9,
                          "#4d9221"
                        ],
                        [
                          1,
                          "#276419"
                        ]
                      ],
                      "sequential": [
                        [
                          0,
                          "#0d0887"
                        ],
                        [
                          0.1111111111111111,
                          "#46039f"
                        ],
                        [
                          0.2222222222222222,
                          "#7201a8"
                        ],
                        [
                          0.3333333333333333,
                          "#9c179e"
                        ],
                        [
                          0.4444444444444444,
                          "#bd3786"
                        ],
                        [
                          0.5555555555555556,
                          "#d8576b"
                        ],
                        [
                          0.6666666666666666,
                          "#ed7953"
                        ],
                        [
                          0.7777777777777778,
                          "#fb9f3a"
                        ],
                        [
                          0.8888888888888888,
                          "#fdca26"
                        ],
                        [
                          1,
                          "#f0f921"
                        ]
                      ],
                      "sequentialminus": [
                        [
                          0,
                          "#0d0887"
                        ],
                        [
                          0.1111111111111111,
                          "#46039f"
                        ],
                        [
                          0.2222222222222222,
                          "#7201a8"
                        ],
                        [
                          0.3333333333333333,
                          "#9c179e"
                        ],
                        [
                          0.4444444444444444,
                          "#bd3786"
                        ],
                        [
                          0.5555555555555556,
                          "#d8576b"
                        ],
                        [
                          0.6666666666666666,
                          "#ed7953"
                        ],
                        [
                          0.7777777777777778,
                          "#fb9f3a"
                        ],
                        [
                          0.8888888888888888,
                          "#fdca26"
                        ],
                        [
                          1,
                          "#f0f921"
                        ]
                      ]
                    },
                    "colorway": [
                      "#636efa",
                      "#EF553B",
                      "#00cc96",
                      "#ab63fa",
                      "#FFA15A",
                      "#19d3f3",
                      "#FF6692",
                      "#B6E880",
                      "#FF97FF",
                      "#FECB52"
                    ],
                    "font": {
                      "color": "#2a3f5f"
                    },
                    "geo": {
                      "bgcolor": "white",
                      "lakecolor": "white",
                      "landcolor": "#E5ECF6",
                      "showlakes": true,
                      "showland": true,
                      "subunitcolor": "white"
                    },
                    "hoverlabel": {
                      "align": "left"
                    },
                    "hovermode": "closest",
                    "mapbox": {
                      "style": "light"
                    },
                    "paper_bgcolor": "white",
                    "plot_bgcolor": "#E5ECF6",
                    "polar": {
                      "angularaxis": {
                        "gridcolor": "white",
                        "linecolor": "white",
                        "ticks": ""
                      },
                      "bgcolor": "#E5ECF6",
                      "radialaxis": {
                        "gridcolor": "white",
                        "linecolor": "white",
                        "ticks": ""
                      }
                    },
                    "scene": {
                      "xaxis": {
                        "backgroundcolor": "#E5ECF6",
                        "gridcolor": "white",
                        "gridwidth": 2,
                        "linecolor": "white",
                        "showbackground": true,
                        "ticks": "",
                        "zerolinecolor": "white"
                      },
                      "yaxis": {
                        "backgroundcolor": "#E5ECF6",
                        "gridcolor": "white",
                        "gridwidth": 2,
                        "linecolor": "white",
                        "showbackground": true,
                        "ticks": "",
                        "zerolinecolor": "white"
                      },
                      "zaxis": {
                        "backgroundcolor": "#E5ECF6",
                        "gridcolor": "white",
                        "gridwidth": 2,
                        "linecolor": "white",
                        "showbackground": true,
                        "ticks": "",
                        "zerolinecolor": "white"
                      }
                    },
                    "shapedefaults": {
                      "line": {
                        "color": "#2a3f5f"
                      }
                    },
                    "ternary": {
                      "aaxis": {
                        "gridcolor": "white",
                        "linecolor": "white",
                        "ticks": ""
                      },
                      "baxis": {
                        "gridcolor": "white",
                        "linecolor": "white",
                        "ticks": ""
                      },
                      "bgcolor": "#E5ECF6",
                      "caxis": {
                        "gridcolor": "white",
                        "linecolor": "white",
                        "ticks": ""
                      }
                    },
                    "title": {
                      "x": 0.05
                    },
                    "xaxis": {
                      "automargin": true,
                      "gridcolor": "white",
                      "linecolor": "white",
                      "ticks": "",
                      "title": {
                        "standoff": 15
                      },
                      "zerolinecolor": "white",
                      "zerolinewidth": 2
                    },
                    "yaxis": {
                      "automargin": true,
                      "gridcolor": "white",
                      "linecolor": "white",
                      "ticks": "",
                      "title": {
                        "standoff": 15
                      },
                      "zerolinecolor": "white",
                      "zerolinewidth": 2
                    }
                  }
                },
                "title": {
                  "text": "Unique Users per Artist and Origin Country"
                }
              }
            }
          },
          "metadata": {},
          "output_type": "display_data"
        }
      ],
      "source": [
        "import plotly.express as px\n",
        "\n",
        "fig = px.treemap(\n",
        "    artist_origin_counts,\n",
        "    path=[\"Most Played Artist Country\", \"Most Played Artist\"],\n",
        "    values=\"User Count\",\n",
        "    color=\"Most Played Artist Country\",\n",
        "    title=\"Unique Users per Artist and Origin Country\"\n",
        ")\n",
        "fig.show()\n"
      ]
    }
  ],
  "metadata": {
    "colab": {
      "authorship_tag": "ABX9TyMZO6oX0VOezwpwedYUrAoX",
      "include_colab_link": true,
      "provenance": []
    },
    "kernelspec": {
      "display_name": "Python 3",
      "language": "python",
      "name": "python3"
    },
    "language_info": {
      "codemirror_mode": {
        "name": "ipython",
        "version": 3
      },
      "file_extension": ".py",
      "mimetype": "text/x-python",
      "name": "python",
      "nbconvert_exporter": "python",
      "pygments_lexer": "ipython3",
      "version": "3.13.5"
    }
  },
  "nbformat": 4,
  "nbformat_minor": 0
}
